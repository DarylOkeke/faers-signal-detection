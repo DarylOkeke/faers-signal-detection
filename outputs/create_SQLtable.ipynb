{
 "cells": [
  {
   "cell_type": "markdown",
   "id": "52e0b7f1",
   "metadata": {},
   "source": [
    "## Copy and Paste SQL Queries into the sql function to generate markdown tables"
   ]
  },
  {
   "cell_type": "code",
   "execution_count": null,
   "id": "e7df5311",
   "metadata": {},
   "outputs": [
    {
     "name": "stdout",
     "output_type": "stream",
     "text": [
      "| drugname   |   report_count |\n",
      "|:-----------|---------------:|\n",
      "| ADBRY      |            850 |\n",
      "| DUPIXENT   |          47067 |\n"
     ]
    }
   ],
   "source": [
    "import sqlite3\n",
    "import pandas as pd\n",
    "\n",
    "# Define the path to your FAERS SQLite database\n",
    "DB_PATH = \"../data/faers.db\"  # <-- Replace with your actual database path\n",
    "\n",
    "# 1. Connect to your FAERS SQLite database\n",
    "conn = sqlite3.connect(DB_PATH)\n",
    "\n",
    "# 2. Helper to run a SQL query and return a DataFrame\n",
    "def sql(query: str) -> pd.DataFrame:\n",
    "    return pd.read_sql_query(query, conn)\n",
    "\n",
    "# 3. Run your summary counts\n",
    "df_summary = sql(\"\"\"\n",
    "\n",
    "-- Compare FAERS report counts for Dupixent vs. Adbry in Q1 2025\n",
    "SELECT\n",
    "  drugname,\n",
    "  COUNT(*) AS report_count\n",
    "FROM\n",
    "  drug25q1\n",
    "WHERE\n",
    "  drugname IN ('DUPIXENT', 'ADBRY')\n",
    "GROUP BY\n",
    "  drugname;\n",
    "\n",
    "\n",
    "\"\"\")\n",
    "\n",
    "# 4. Print as Markdown table\n",
    "print(df_summary.to_markdown(index=False))\n",
    "\n",
    "# 5. Save the Markdown to a file\n",
    "#with open(\"top_10_reported_drugs.md\", \"w\") as f:\n",
    "#    f.write(df_summary.to_markdown(index=False))\n",
    "\n"
   ]
  },
  {
   "cell_type": "code",
   "execution_count": null,
   "id": "839d855a",
   "metadata": {},
   "outputs": [],
   "source": []
  }
 ],
 "metadata": {
  "kernelspec": {
   "display_name": "venv",
   "language": "python",
   "name": "python3"
  },
  "language_info": {
   "codemirror_mode": {
    "name": "ipython",
    "version": 3
   },
   "file_extension": ".py",
   "mimetype": "text/x-python",
   "name": "python",
   "nbconvert_exporter": "python",
   "pygments_lexer": "ipython3",
   "version": "3.13.5"
  }
 },
 "nbformat": 4,
 "nbformat_minor": 5
}
