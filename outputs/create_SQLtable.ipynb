{
 "cells": [
  {
   "cell_type": "markdown",
   "id": "52e0b7f1",
   "metadata": {},
   "source": [
    "## Copy and Paste SQL Queries into the sql function to generate markdown tables"
   ]
  },
  {
   "cell_type": "code",
   "execution_count": 4,
   "id": "e7df5311",
   "metadata": {},
   "outputs": [
    {
     "name": "stdout",
     "output_type": "stream",
     "text": [
      "| drug_name                   |   faers_report_count |   medicare_claims_2023 |   medicare_30day_fills_2023 |   medicare_beneficiaries_2023 |   medicare_cost_2023 |   ae_reports_per_1000_claims |   ae_reports_per_1000_beneficiaries | analysis_role   |\n",
      "|:----------------------------|---------------------:|-----------------------:|----------------------------:|------------------------------:|---------------------:|-----------------------------:|------------------------------------:|:----------------|\n",
      "| Adbry                       |                 1646 |                   3958 |                        4003 |                            67 |          1.49766e+07 |                       415.87 |                            24567.2  | Comparison      |\n",
      "| Dupixent                    |                94410 |                 350986 |                      359718 |                          7403 |          1.36812e+09 |                       268.99 |                            12752.9  | Reference       |\n",
      "| Rate Ratio (Dupixent/Adbry) |                  nan |                    nan |                         nan |                           nan |        nan           |                         0.65 |                                0.52 | Rate Ratio      |\n"
     ]
    }
   ],
   "source": [
    "import sqlite3\n",
    "import pandas as pd\n",
    "\n",
    "# Define the path to your FAERS SQLite database\n",
    "DB_PATH = \"../data/faers.db\"  # <-- Replace with your actual database path\n",
    "\n",
    "# 1. Connect to your FAERS SQLite database\n",
    "conn = sqlite3.connect(DB_PATH)\n",
    "\n",
    "# 2. Helper to run a SQL query and return a DataFrame\n",
    "def sql(query: str) -> pd.DataFrame:\n",
    "    return pd.read_sql_query(query, conn)\n",
    "\n",
    "# 3. Run your summary counts\n",
    "df_summary = sql(\"\"\"\n",
    "select *\n",
    "from normalized_ae_rates_dupixent_adbry\n",
    "\"\"\")\n",
    "\n",
    "# 4. Print as Markdown table\n",
    "print(df_summary.to_markdown(index=False))\n",
    "\n",
    "# 5. Save the Markdown to a file\n",
    "#with open(\"top_10_reported_drugs.md\", \"w\") as f:\n",
    "#    f.write(df_summary.to_markdown(index=False))\n",
    "\n"
   ]
  },
  {
   "cell_type": "code",
   "execution_count": null,
   "id": "839d855a",
   "metadata": {},
   "outputs": [],
   "source": []
  }
 ],
 "metadata": {
  "kernelspec": {
   "display_name": "venv",
   "language": "python",
   "name": "python3"
  },
  "language_info": {
   "codemirror_mode": {
    "name": "ipython",
    "version": 3
   },
   "file_extension": ".py",
   "mimetype": "text/x-python",
   "name": "python",
   "nbconvert_exporter": "python",
   "pygments_lexer": "ipython3",
   "version": "3.13.5"
  }
 },
 "nbformat": 4,
 "nbformat_minor": 5
}
